{
  "cells": [
    {
      "cell_type": "code",
      "execution_count": 1,
      "id": "5b929e7c",
      "metadata": {
        "id": "5b929e7c"
      },
      "outputs": [],
      "source": [
        "import re\n",
        "import random\n",
        "\n",
        "REFLEXAO = {\n",
        "    r\"\\beu\\b\": \"você\",\n",
        "    r\"\\bmeu\\b\": \"seu\",\n",
        "    r\"\\bminha\\b\": \"sua\",\n",
        "    r\"\\bmim\\b\": \"você\",\n",
        "    r\"\\bme\\b\": \"você\",\n",
        "    r\"\\bmeus\\b\": \"seus\",\n",
        "    r\"\\bminhas\\b\": \"suas\",\n",
        "    r\"\\bnosso\\b\": \"seu\",\n",
        "    r\"\\bnos\\b\": \"vocês\",\n",
        "    r\"\\bteu\\b\": \"seu\",\n",
        "    r\"\\btu\\b\": \"você\",\n",
        "    r\"\\bcontigo\\b\": \"com você\",\n",
        "    r\"\\bele\\b\": \"ele\",\n",
        "    r\"\\bela\\b\": \"ela\",\n",
        "    r\"\\bé\\b\": \"é\",  # para evitar trocar acidentais\n",
        "    r\"\\bvocê\\b\": \"eu\",\n",
        "    r\"\\bseu\\b\": \"meu\",\n",
        "    r\"\\bsua\\b\": \"minha\",\n",
        "    r\"\\bseus\\b\": \"meus\",\n",
        "    r\"\\bsuas\\b\": \"minhas\"\n",
        "}\n",
        "\n",
        "FRASES_NEUTRAS = [\n",
        "    \"Entendo. Pode elaborar um pouco mais?\",\n",
        "    \"Como isso faz você se sentir?\",\n",
        "    \"Pode dar um exemplo recente?\",\n",
        "    \"O que você acha que está por trás disso?\",\n",
        "    \"Interessante. Continue.\"\n",
        "]\n",
        "\n",
        "PADROES = [\n",
        "    (re.compile(r\".*\\bestou (?:me )?sentindo (.+)\", re.I),\n",
        "     lambda m: f\"Por que você está se sentindo {reflete(m.group(1))}?\"),\n",
        "    (re.compile(r\".*\\bestou (.+)\", re.I),\n",
        "     lambda m: f\"Há quanto tempo você está {reflete(m.group(1))}?\"),\n",
        "    (re.compile(r\".*\\beu sinto (.+)\", re.I),\n",
        "     lambda m: f\"Por que você sente {reflete(m.group(1))}?\"),\n",
        "    (re.compile(r\".*\\beu quero (.+)\", re.I),\n",
        "     lambda m: f\"O que significaria para você conseguir {reflete(m.group(1))}?\"),\n",
        "    (re.compile(r\".*\\bporque (.+)\", re.I),\n",
        "     lambda m: \"E se a razão for outra? O que mais poderia explicar isso?\"),\n",
        "    (re.compile(r\".*\\bsempre\\b.*\", re.I),\n",
        "     lambda m: \"Sempre? Consegue lembrar de uma situação em que foi diferente?\"),\n",
        "    (re.compile(r\".*\\b(não|nao)\\b.*\", re.I),\n",
        "     lambda m: \"Vejo negação aí. O que torna isso difícil para você?\"),\n",
        "    (re.compile(r\".*\\b(sim)\\b.*\", re.I),\n",
        "     lambda m: \"Ok. O que te faz ter certeza disso?\"),\n",
        "    (re.compile(r\".*\\b(mãe|mae|pai|familia)\\b.*\", re.I),\n",
        "     lambda m: \"Fale mais sobre sua família. Que papel isso tem na situação?\"),\n",
        "    (re.compile(r\".*\\bvocê é (.+)\", re.I),\n",
        "     lambda m: f\"O que faz você pensar que eu sou {reflete(m.group(1))}?\"),\n",
        "    (re.compile(r\".*\\b(olá|oi|boa tarde|bom dia)\\b.*\", re.I),\n",
        "     lambda m: \"Olá. Em que gostaria de focar hoje?\"),\n",
        "    (re.compile(r\".*\\b(adeus|tchau|sair)\\b.*\", re.I),\n",
        "     lambda m: \"Tudo bem. Podemos retomar quando quiser.\")\n",
        "]\n",
        "\n",
        "def reflete(texto: str) -> str:\n",
        "    \"\"\"Reflete pronomes para o estilo rogeriano.\"\"\"\n",
        "    out = \" \" + texto.strip() + \" \"\n",
        "    for k, v in REFLEXAO.items():\n",
        "        out = re.sub(k, v, out, flags=re.I)\n",
        "    return out.strip()\n",
        "\n",
        "def responder(frase: str) -> str:\n",
        "    frase = frase.strip()\n",
        "    if not frase:\n",
        "        return \"Fale um pouco do que está passando na sua cabeça.\"\n",
        "    for pattern, handler in PADROES:\n",
        "        m = pattern.match(frase)\n",
        "        if m:\n",
        "            return handler(m)\n",
        "    return random.choice(FRASES_NEUTRAS)\n",
        "\n",
        "def main():\n",
        "    print(\"ELIZA-PT simples. Digite 'sair' para encerrar.\")\n",
        "    while True:\n",
        "        try:\n",
        "            user = input(\"> \")\n",
        "        except EOFError:\n",
        "            break\n",
        "        if user.lower().strip() in {\"sair\", \"tchau\", \"adeus\"}:\n",
        "            print(\"Até mais. Cuide-se.\")\n",
        "            break\n",
        "        print(responder(user))"
      ]
    },
    {
      "cell_type": "markdown",
      "id": "42f0b844",
      "metadata": {
        "id": "42f0b844"
      },
      "source": [
        "# ELIZA\n",
        "\n",
        "Objetivo: mapear entradas de linguagem natural para respostas reflexivas.\n",
        "\n",
        "Componentes:\n",
        "- Tabela de reflexão (substituição de pronomes).\n",
        "- Conjunto de padrões (regex) → funções geradoras.\n",
        "- Fallback com respostas neutras."
      ]
    },
    {
      "cell_type": "code",
      "execution_count": 2,
      "id": "17f26bcf",
      "metadata": {
        "id": "17f26bcf"
      },
      "outputs": [],
      "source": [
        "import re\n",
        "import random\n",
        "\n",
        "REFLEXAO = {\n",
        "    r\"\\beu\\b\": \"você\",\n",
        "    r\"\\bmeu\\b\": \"seu\",\n",
        "    r\"\\bminha\\b\": \"sua\",\n",
        "    r\"\\bmim\\b\": \"você\",\n",
        "    r\"\\bme\\b\": \"você\",\n",
        "    r\"\\bmeus\\b\": \"seus\",\n",
        "    r\"\\bminhas\\b\": \"suas\",\n",
        "    r\"\\bnosso\\b\": \"seu\",\n",
        "    r\"\\bnos\\b\": \"vocês\",\n",
        "    r\"\\bteu\\b\": \"seu\",\n",
        "    r\"\\btu\\b\": \"você\",\n",
        "    r\"\\bcontigo\\b\": \"com você\",\n",
        "    r\"\\bele\\b\": \"ele\",\n",
        "    r\"\\bela\\b\": \"ela\",\n",
        "    r\"\\bé\\b\": \"é\",\n",
        "    r\"\\bvocê\\b\": \"eu\",\n",
        "    r\"\\bseu\\b\": \"meu\",\n",
        "    r\"\\bsua\\b\": \"minha\",\n",
        "    r\"\\bseus\\b\": \"meus\",\n",
        "    r\"\\bsuas\\b\": \"minhas\"\n",
        "}\n",
        "\n",
        "FRASES_NEUTRAS = [\n",
        "    \"Entendo. Pode elaborar um pouco mais?\",\n",
        "    \"Como isso faz você se sentir?\",\n",
        "    \"Pode dar um exemplo recente?\",\n",
        "    \"O que você acha que está por trás disso?\",\n",
        "    \"Interessante. Continue.\"\n",
        "]"
      ]
    },
    {
      "cell_type": "markdown",
      "id": "d6215b70",
      "metadata": {
        "id": "d6215b70"
      },
      "source": [
        "Função de reflexão:\n",
        "- Aplica substituições sobre bordas de palavra com regex insensível a caso.\n",
        "- Pré/pós-espaço evita colagem de tokens."
      ]
    },
    {
      "cell_type": "code",
      "execution_count": 3,
      "id": "ea7b1aa0",
      "metadata": {
        "id": "ea7b1aa0"
      },
      "outputs": [],
      "source": [
        "def reflete(texto: str) -> str:\n",
        "    out = \" \" + texto.strip() + \" \"\n",
        "    for k, v in REFLEXAO.items():\n",
        "        out = re.sub(k, v, out, flags=re.I)\n",
        "    return out.strip()"
      ]
    },
    {
      "cell_type": "markdown",
      "id": "a5b36bcb",
      "metadata": {
        "id": "a5b36bcb"
      },
      "source": [
        "Padrões e despache:\n",
        "- `PADROES`: tuplas `(regex_compilada, handler)`.\n",
        "- `responder`: varre na ordem, aplica o primeiro match. Caso contrário, escolhe neutra."
      ]
    },
    {
      "cell_type": "code",
      "execution_count": 4,
      "id": "2e004a84",
      "metadata": {
        "id": "2e004a84"
      },
      "outputs": [],
      "source": [
        "PADROES = [\n",
        "    (re.compile(r\".*\\bestou (?:me )?sentindo (.+)\", re.I),\n",
        "     lambda m: f\"Por que você está se sentindo {reflete(m.group(1))}?\"),\n",
        "    (re.compile(r\".*\\bestou (.+)\", re.I),\n",
        "     lambda m: f\"Há quanto tempo você está {reflete(m.group(1))}?\"),\n",
        "    (re.compile(r\".*\\beu sinto (.+)\", re.I),\n",
        "     lambda m: f\"Por que você sente {reflete(m.group(1))}?\"),\n",
        "    (re.compile(r\".*\\beu quero (.+)\", re.I),\n",
        "     lambda m: f\"O que significaria para você conseguir {reflete(m.group(1))}?\"),\n",
        "    (re.compile(r\".*\\bporque (.+)\", re.I),\n",
        "     lambda m: \"E se a razão for outra? O que mais poderia explicar isso?\"),\n",
        "    (re.compile(r\".*\\bsempre\\b.*\", re.I),\n",
        "     lambda m: \"Sempre? Consegue lembrar de uma situação em que foi diferente?\"),\n",
        "    (re.compile(r\".*\\b(não|nao)\\b.*\", re.I),\n",
        "     lambda m: \"Vejo negação aí. O que torna isso difícil para você?\"),\n",
        "    (re.compile(r\".*\\b(sim)\\b.*\", re.I),\n",
        "     lambda m: \"Ok. O que te faz ter certeza disso?\"),\n",
        "    (re.compile(r\".*\\b(mãe|mae|pai|familia)\\b.*\", re.I),\n",
        "     lambda m: \"Fale mais sobre sua família. Que papel isso tem na situação?\"),\n",
        "    (re.compile(r\".*\\bvocê é (.+)\", re.I),\n",
        "     lambda m: f\"O que faz você pensar que eu sou {reflete(m.group(1))}?\"),\n",
        "    (re.compile(r\".*\\b(olá|oi|boa tarde|bom dia)\\b.*\", re.I),\n",
        "     lambda m: \"Olá. Em que gostaria de focar hoje?\"),\n",
        "    (re.compile(r\".*\\b(adeus|tchau|sair)\\b.*\", re.I),\n",
        "     lambda m: \"Tudo bem. Podemos retomar quando quiser.\")\n",
        "]\n",
        "\n",
        "def responder(frase: str) -> str:\n",
        "    frase = frase.strip()\n",
        "    if not frase:\n",
        "        return \"Fale um pouco do que está passando na sua cabeça.\"\n",
        "    for pattern, handler in PADROES:\n",
        "        m = pattern.match(frase)\n",
        "        if m:\n",
        "            return handler(m)\n",
        "    return random.choice(FRASES_NEUTRAS)"
      ]
    },
    {
      "cell_type": "code",
      "execution_count": 5,
      "id": "6847da15",
      "metadata": {
        "id": "6847da15",
        "outputId": "5c3170fa-06a9-4d97-fce4-f3fdcc01c6ba",
        "colab": {
          "base_uri": "https://localhost:8080/",
          "height": 35
        }
      },
      "outputs": [
        {
          "output_type": "execute_result",
          "data": {
            "text/plain": [
              "'Olá. Em que gostaria de focar hoje?'"
            ],
            "application/vnd.google.colaboratory.intrinsic+json": {
              "type": "string"
            }
          },
          "metadata": {},
          "execution_count": 5
        }
      ],
      "source": [
        "responder(\"oi\")"
      ]
    },
    {
      "cell_type": "markdown",
      "id": "c88768c1",
      "metadata": {
        "id": "c88768c1"
      },
      "source": [
        "# Cadeias de Markov para geração de texto\n",
        "\n",
        "Modelo:\n",
        "- Cada palavra = estado.\n",
        "- Transição $P(w_{t+1} \\mid w_t)$ estimada pela frequência no corpus.\n",
        "- Geração: sorteio do próximo estado segundo $P$ até atingir o tamanho desejado.\n",
        "\n",
        "Passos:\n",
        "1. Pré-processamento do corpus.\n",
        "2. Geração de N-gramas.\n",
        "3. Construção da matriz de transição.\n",
        "4. Amostragem para gerar texto."
      ]
    },
    {
      "cell_type": "code",
      "execution_count": 6,
      "id": "d7aa4082",
      "metadata": {
        "id": "d7aa4082",
        "outputId": "cd2a2632-7190-4f59-9fc4-c1d718a3bd4e",
        "colab": {
          "base_uri": "https://localhost:8080/"
        }
      },
      "outputs": [
        {
          "output_type": "execute_result",
          "data": {
            "text/plain": [
              "['o',\n",
              " 'gato',\n",
              " 'preto',\n",
              " 'corre',\n",
              " 'pelo',\n",
              " 'jardim',\n",
              " 'e',\n",
              " 'o',\n",
              " 'gato',\n",
              " 'branco',\n",
              " 'dorme',\n",
              " 'na',\n",
              " 'cadeira',\n",
              " 'o',\n",
              " 'gato',\n",
              " 'branco',\n",
              " 'observa',\n",
              " 'o',\n",
              " 'gato',\n",
              " 'preto',\n",
              " 'e',\n",
              " 'o',\n",
              " 'gato',\n",
              " 'preto',\n",
              " 'observa',\n",
              " 'o',\n",
              " 'gato',\n",
              " 'branco',\n",
              " 'o',\n",
              " 'gato',\n",
              " 'preto',\n",
              " 'e',\n",
              " 'o',\n",
              " 'gato',\n",
              " 'branco',\n",
              " 'gostam',\n",
              " 'de',\n",
              " 'brincar',\n",
              " 'no',\n",
              " 'jardim']"
            ]
          },
          "metadata": {},
          "execution_count": 6
        }
      ],
      "source": [
        "import re\n",
        "import numpy as np\n",
        "from nltk import ngrams\n",
        "\n",
        "# Texto de exemplo\n",
        "text = \"\"\"\n",
        "O gato preto corre pelo jardim e o gato branco dorme na cadeira\n",
        "o gato branco observa o gato preto e o gato preto observa o gato branco\n",
        "o gato preto e o gato branco gostam de brincar no jardim\n",
        "\"\"\"\n",
        "\n",
        "# 1. Pré-processamento\n",
        "text = re.sub(r\"[^a-zA-Z0-9\\s]\", \"\", text)  # remove pontuação\n",
        "text = text.lower()\n",
        "\n",
        "tokens = text.split()\n",
        "tokens"
      ]
    },
    {
      "cell_type": "markdown",
      "id": "fa6d829e",
      "metadata": {
        "id": "fa6d829e"
      },
      "source": [
        "## Geração de N-gramas\n",
        "\n",
        "- N-grama de ordem 2 (bigramas):\n",
        "$$\n",
        "(w_t, w_{t+1})\n",
        "$$"
      ]
    },
    {
      "cell_type": "code",
      "execution_count": 7,
      "id": "2acd2969",
      "metadata": {
        "id": "2acd2969",
        "outputId": "c0fbace1-9665-4b56-ae0f-22bcd0fe763a",
        "colab": {
          "base_uri": "https://localhost:8080/"
        }
      },
      "outputs": [
        {
          "output_type": "execute_result",
          "data": {
            "text/plain": [
              "[('o', 'gato'),\n",
              " ('gato', 'preto'),\n",
              " ('preto', 'corre'),\n",
              " ('corre', 'pelo'),\n",
              " ('pelo', 'jardim'),\n",
              " ('jardim', 'e'),\n",
              " ('e', 'o'),\n",
              " ('o', 'gato'),\n",
              " ('gato', 'branco'),\n",
              " ('branco', 'dorme'),\n",
              " ('dorme', 'na'),\n",
              " ('na', 'cadeira'),\n",
              " ('cadeira', 'o'),\n",
              " ('o', 'gato'),\n",
              " ('gato', 'branco'),\n",
              " ('branco', 'observa'),\n",
              " ('observa', 'o'),\n",
              " ('o', 'gato'),\n",
              " ('gato', 'preto'),\n",
              " ('preto', 'e'),\n",
              " ('e', 'o'),\n",
              " ('o', 'gato'),\n",
              " ('gato', 'preto'),\n",
              " ('preto', 'observa'),\n",
              " ('observa', 'o'),\n",
              " ('o', 'gato'),\n",
              " ('gato', 'branco'),\n",
              " ('branco', 'o'),\n",
              " ('o', 'gato'),\n",
              " ('gato', 'preto'),\n",
              " ('preto', 'e'),\n",
              " ('e', 'o'),\n",
              " ('o', 'gato'),\n",
              " ('gato', 'branco'),\n",
              " ('branco', 'gostam'),\n",
              " ('gostam', 'de'),\n",
              " ('de', 'brincar'),\n",
              " ('brincar', 'no'),\n",
              " ('no', 'jardim')]"
            ]
          },
          "metadata": {},
          "execution_count": 7
        }
      ],
      "source": [
        "n = 2\n",
        "n_grams = list(ngrams(tokens, n))\n",
        "n_grams"
      ]
    },
    {
      "cell_type": "markdown",
      "id": "cdad50f7",
      "metadata": {
        "id": "cdad50f7"
      },
      "source": [
        "## Matriz de transição\n",
        "\n",
        "- Vocabulário: conjunto de palavras únicas.\n",
        "- $M_{ij} =$ número de vezes que $w_j$ segue $w_i$.\n",
        "- Normalização: $$P_{ij} = \\frac{M_{ij}}{\\sum_k M_{ik}}$$"
      ]
    },
    {
      "cell_type": "code",
      "execution_count": 8,
      "id": "7fc1e6ed",
      "metadata": {
        "id": "7fc1e6ed",
        "outputId": "fcf0de81-d757-47a1-d2bd-17cd740f9a93",
        "colab": {
          "base_uri": "https://localhost:8080/"
        }
      },
      "outputs": [
        {
          "output_type": "execute_result",
          "data": {
            "text/plain": [
              "array([[0.  , 0.  , 0.  , 0.  , 0.  , 0.  , 0.  , 0.  , 0.5 , 0.  , 0.  ,\n",
              "        0.  , 0.  , 0.  , 0.5 , 0.  ],\n",
              "       [0.  , 0.  , 0.  , 0.  , 0.  , 0.  , 0.  , 0.  , 0.  , 0.  , 0.  ,\n",
              "        0.  , 0.  , 0.  , 0.  , 1.  ],\n",
              "       [0.  , 0.  , 0.  , 0.  , 0.  , 0.  , 0.  , 0.  , 0.  , 0.  , 0.  ,\n",
              "        0.  , 1.  , 0.  , 0.  , 0.  ],\n",
              "       [0.  , 0.  , 0.  , 0.  , 0.  , 0.  , 0.  , 0.  , 0.  , 1.  , 0.  ,\n",
              "        0.  , 0.  , 0.  , 0.  , 0.  ],\n",
              "       [0.  , 0.  , 0.  , 0.  , 0.  , 0.  , 0.  , 1.  , 0.  , 0.  , 0.  ,\n",
              "        0.  , 0.  , 0.  , 0.  , 0.  ],\n",
              "       [0.  , 0.  , 0.  , 1.  , 0.  , 0.  , 0.  , 0.  , 0.  , 0.  , 0.  ,\n",
              "        0.  , 0.  , 0.  , 0.  , 0.  ],\n",
              "       [0.  , 0.  , 0.  , 0.  , 0.  , 0.  , 0.  , 0.  , 0.  , 0.  , 0.  ,\n",
              "        0.  , 0.  , 1.  , 0.  , 0.  ],\n",
              "       [0.  , 0.  , 1.  , 0.  , 0.  , 0.  , 0.  , 0.  , 0.  , 0.  , 0.  ,\n",
              "        0.  , 0.  , 0.  , 0.  , 0.  ],\n",
              "       [0.  , 0.  , 0.  , 0.  , 0.  , 0.25, 0.  , 0.  , 0.  , 0.  , 0.25,\n",
              "        0.25, 0.25, 0.  , 0.  , 0.  ],\n",
              "       [0.  , 0.  , 0.  , 0.  , 0.  , 0.  , 0.  , 0.  , 0.  , 0.  , 0.  ,\n",
              "        0.  , 1.  , 0.  , 0.  , 0.  ],\n",
              "       [0.  , 0.  , 0.  , 0.  , 0.  , 0.  , 1.  , 0.  , 0.  , 0.  , 0.  ,\n",
              "        0.  , 0.  , 0.  , 0.  , 0.  ],\n",
              "       [0.  , 0.  , 0.  , 0.  , 0.  , 0.  , 0.  , 0.  , 0.  , 0.  , 0.  ,\n",
              "        0.  , 1.  , 0.  , 0.  , 0.  ],\n",
              "       [1.  , 0.  , 0.  , 0.  , 0.  , 0.  , 0.  , 0.  , 0.  , 0.  , 0.  ,\n",
              "        0.  , 0.  , 0.  , 0.  , 0.  ],\n",
              "       [0.  , 0.  , 0.  , 0.  , 1.  , 0.  , 0.  , 0.  , 0.  , 0.  , 0.  ,\n",
              "        0.  , 0.  , 0.  , 0.  , 0.  ],\n",
              "       [0.  , 0.25, 0.5 , 0.  , 0.  , 0.  , 0.  , 0.  , 0.  , 0.  , 0.  ,\n",
              "        0.25, 0.  , 0.  , 0.  , 0.  ],\n",
              "       [0.  , 0.  , 0.  , 0.  , 0.  , 0.  , 0.  , 1.  , 0.  , 0.  , 0.  ,\n",
              "        0.  , 0.  , 0.  , 0.  , 0.  ]])"
            ]
          },
          "metadata": {},
          "execution_count": 8
        }
      ],
      "source": [
        "unique_words = list(set(tokens))\n",
        "V = len(unique_words)\n",
        "\n",
        "transition_matrix = np.zeros((V, V))\n",
        "\n",
        "# Contagem de transições\n",
        "for i, word in enumerate(unique_words):\n",
        "    for j, next_word in enumerate(unique_words):\n",
        "        count = sum(1 for g in n_grams if g[0] == word and g[1] == next_word)\n",
        "        transition_matrix[i, j] = count\n",
        "\n",
        "# Normalização linha a linha\n",
        "transition_matrix = transition_matrix / transition_matrix.sum(axis=1, keepdims=True)\n",
        "transition_matrix"
      ]
    },
    {
      "cell_type": "markdown",
      "id": "7a7fa587",
      "metadata": {
        "id": "7a7fa587"
      },
      "source": [
        "## Geração de texto\n",
        "\n",
        "- Palavra inicial: $w_0$.\n",
        "- Para cada passo:\n",
        "  1. Escolher próximo índice segundo $P(\\cdot \\mid w_t)$.\n",
        "  2. Atualizar palavra corrente."
      ]
    },
    {
      "cell_type": "code",
      "execution_count": 9,
      "id": "2b51e0f0",
      "metadata": {
        "id": "2b51e0f0",
        "outputId": "340b6c8b-ed66-42ae-a2dc-74c31c63412b",
        "colab": {
          "base_uri": "https://localhost:8080/",
          "height": 35
        }
      },
      "outputs": [
        {
          "output_type": "execute_result",
          "data": {
            "text/plain": [
              "'o gato preto e o gato branco dorme na cadeira o'"
            ],
            "application/vnd.google.colaboratory.intrinsic+json": {
              "type": "string"
            }
          },
          "metadata": {},
          "execution_count": 9
        }
      ],
      "source": [
        "current_word = \"o\"\n",
        "generated = [current_word]\n",
        "\n",
        "for _ in range(10):\n",
        "    idx = unique_words.index(current_word)\n",
        "    probs = transition_matrix[idx]\n",
        "    next_idx = np.random.choice(len(unique_words), p=probs)\n",
        "    next_word = unique_words[next_idx]\n",
        "    generated.append(next_word)\n",
        "    current_word = next_word\n",
        "\n",
        "\" \".join(generated)"
      ]
    }
  ],
  "metadata": {
    "kernelspec": {
      "display_name": "base",
      "language": "python",
      "name": "python3"
    },
    "language_info": {
      "codemirror_mode": {
        "name": "ipython",
        "version": 3
      },
      "file_extension": ".py",
      "mimetype": "text/x-python",
      "name": "python",
      "nbconvert_exporter": "python",
      "pygments_lexer": "ipython3",
      "version": "3.10.9"
    },
    "colab": {
      "provenance": []
    }
  },
  "nbformat": 4,
  "nbformat_minor": 5
}